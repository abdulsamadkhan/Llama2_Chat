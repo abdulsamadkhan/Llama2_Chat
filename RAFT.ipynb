{
  "nbformat": 4,
  "nbformat_minor": 0,
  "metadata": {
    "colab": {
      "provenance": [],
      "authorship_tag": "ABX9TyMMfnhhDpi+/5YDQvDyDeyO",
      "include_colab_link": true
    },
    "kernelspec": {
      "name": "python3",
      "display_name": "Python 3"
    },
    "language_info": {
      "name": "python"
    },
    "widgets": {
      "application/vnd.jupyter.widget-state+json": {
        "fd8b07f425e04cadb733edf5354b0eb3": {
          "model_module": "@jupyter-widgets/controls",
          "model_name": "HBoxModel",
          "model_module_version": "1.5.0",
          "state": {
            "_dom_classes": [],
            "_model_module": "@jupyter-widgets/controls",
            "_model_module_version": "1.5.0",
            "_model_name": "HBoxModel",
            "_view_count": null,
            "_view_module": "@jupyter-widgets/controls",
            "_view_module_version": "1.5.0",
            "_view_name": "HBoxView",
            "box_style": "",
            "children": [
              "IPY_MODEL_de461ec70aec40a59c3bcfa0a50a0875",
              "IPY_MODEL_6168a72b5a6044199983cae76db129eb",
              "IPY_MODEL_e2ab12378e8c4db2b72290ef09dae22c"
            ],
            "layout": "IPY_MODEL_9f68ecef804b429792555a8a1b3ff79e"
          }
        },
        "de461ec70aec40a59c3bcfa0a50a0875": {
          "model_module": "@jupyter-widgets/controls",
          "model_name": "HTMLModel",
          "model_module_version": "1.5.0",
          "state": {
            "_dom_classes": [],
            "_model_module": "@jupyter-widgets/controls",
            "_model_module_version": "1.5.0",
            "_model_name": "HTMLModel",
            "_view_count": null,
            "_view_module": "@jupyter-widgets/controls",
            "_view_module_version": "1.5.0",
            "_view_name": "HTMLView",
            "description": "",
            "description_tooltip": null,
            "layout": "IPY_MODEL_397654925aee4c46b3252c6e77ef30fe",
            "placeholder": "​",
            "style": "IPY_MODEL_df7169da8dea453589a6194d7acffa3b",
            "value": "Saving the dataset (1/1 shards): 100%"
          }
        },
        "6168a72b5a6044199983cae76db129eb": {
          "model_module": "@jupyter-widgets/controls",
          "model_name": "FloatProgressModel",
          "model_module_version": "1.5.0",
          "state": {
            "_dom_classes": [],
            "_model_module": "@jupyter-widgets/controls",
            "_model_module_version": "1.5.0",
            "_model_name": "FloatProgressModel",
            "_view_count": null,
            "_view_module": "@jupyter-widgets/controls",
            "_view_module_version": "1.5.0",
            "_view_name": "ProgressView",
            "bar_style": "success",
            "description": "",
            "description_tooltip": null,
            "layout": "IPY_MODEL_ac8268cee06844d3bf970df585f06e52",
            "max": 20,
            "min": 0,
            "orientation": "horizontal",
            "style": "IPY_MODEL_92918d89e1714079ac79a7247cfa16bd",
            "value": 20
          }
        },
        "e2ab12378e8c4db2b72290ef09dae22c": {
          "model_module": "@jupyter-widgets/controls",
          "model_name": "HTMLModel",
          "model_module_version": "1.5.0",
          "state": {
            "_dom_classes": [],
            "_model_module": "@jupyter-widgets/controls",
            "_model_module_version": "1.5.0",
            "_model_name": "HTMLModel",
            "_view_count": null,
            "_view_module": "@jupyter-widgets/controls",
            "_view_module_version": "1.5.0",
            "_view_name": "HTMLView",
            "description": "",
            "description_tooltip": null,
            "layout": "IPY_MODEL_d969caad948d418f889c55345372e664",
            "placeholder": "​",
            "style": "IPY_MODEL_436ba98dce004dafb685fd7d584efb1f",
            "value": " 20/20 [00:00&lt;00:00, 492.78 examples/s]"
          }
        },
        "9f68ecef804b429792555a8a1b3ff79e": {
          "model_module": "@jupyter-widgets/base",
          "model_name": "LayoutModel",
          "model_module_version": "1.2.0",
          "state": {
            "_model_module": "@jupyter-widgets/base",
            "_model_module_version": "1.2.0",
            "_model_name": "LayoutModel",
            "_view_count": null,
            "_view_module": "@jupyter-widgets/base",
            "_view_module_version": "1.2.0",
            "_view_name": "LayoutView",
            "align_content": null,
            "align_items": null,
            "align_self": null,
            "border": null,
            "bottom": null,
            "display": null,
            "flex": null,
            "flex_flow": null,
            "grid_area": null,
            "grid_auto_columns": null,
            "grid_auto_flow": null,
            "grid_auto_rows": null,
            "grid_column": null,
            "grid_gap": null,
            "grid_row": null,
            "grid_template_areas": null,
            "grid_template_columns": null,
            "grid_template_rows": null,
            "height": null,
            "justify_content": null,
            "justify_items": null,
            "left": null,
            "margin": null,
            "max_height": null,
            "max_width": null,
            "min_height": null,
            "min_width": null,
            "object_fit": null,
            "object_position": null,
            "order": null,
            "overflow": null,
            "overflow_x": null,
            "overflow_y": null,
            "padding": null,
            "right": null,
            "top": null,
            "visibility": null,
            "width": null
          }
        },
        "397654925aee4c46b3252c6e77ef30fe": {
          "model_module": "@jupyter-widgets/base",
          "model_name": "LayoutModel",
          "model_module_version": "1.2.0",
          "state": {
            "_model_module": "@jupyter-widgets/base",
            "_model_module_version": "1.2.0",
            "_model_name": "LayoutModel",
            "_view_count": null,
            "_view_module": "@jupyter-widgets/base",
            "_view_module_version": "1.2.0",
            "_view_name": "LayoutView",
            "align_content": null,
            "align_items": null,
            "align_self": null,
            "border": null,
            "bottom": null,
            "display": null,
            "flex": null,
            "flex_flow": null,
            "grid_area": null,
            "grid_auto_columns": null,
            "grid_auto_flow": null,
            "grid_auto_rows": null,
            "grid_column": null,
            "grid_gap": null,
            "grid_row": null,
            "grid_template_areas": null,
            "grid_template_columns": null,
            "grid_template_rows": null,
            "height": null,
            "justify_content": null,
            "justify_items": null,
            "left": null,
            "margin": null,
            "max_height": null,
            "max_width": null,
            "min_height": null,
            "min_width": null,
            "object_fit": null,
            "object_position": null,
            "order": null,
            "overflow": null,
            "overflow_x": null,
            "overflow_y": null,
            "padding": null,
            "right": null,
            "top": null,
            "visibility": null,
            "width": null
          }
        },
        "df7169da8dea453589a6194d7acffa3b": {
          "model_module": "@jupyter-widgets/controls",
          "model_name": "DescriptionStyleModel",
          "model_module_version": "1.5.0",
          "state": {
            "_model_module": "@jupyter-widgets/controls",
            "_model_module_version": "1.5.0",
            "_model_name": "DescriptionStyleModel",
            "_view_count": null,
            "_view_module": "@jupyter-widgets/base",
            "_view_module_version": "1.2.0",
            "_view_name": "StyleView",
            "description_width": ""
          }
        },
        "ac8268cee06844d3bf970df585f06e52": {
          "model_module": "@jupyter-widgets/base",
          "model_name": "LayoutModel",
          "model_module_version": "1.2.0",
          "state": {
            "_model_module": "@jupyter-widgets/base",
            "_model_module_version": "1.2.0",
            "_model_name": "LayoutModel",
            "_view_count": null,
            "_view_module": "@jupyter-widgets/base",
            "_view_module_version": "1.2.0",
            "_view_name": "LayoutView",
            "align_content": null,
            "align_items": null,
            "align_self": null,
            "border": null,
            "bottom": null,
            "display": null,
            "flex": null,
            "flex_flow": null,
            "grid_area": null,
            "grid_auto_columns": null,
            "grid_auto_flow": null,
            "grid_auto_rows": null,
            "grid_column": null,
            "grid_gap": null,
            "grid_row": null,
            "grid_template_areas": null,
            "grid_template_columns": null,
            "grid_template_rows": null,
            "height": null,
            "justify_content": null,
            "justify_items": null,
            "left": null,
            "margin": null,
            "max_height": null,
            "max_width": null,
            "min_height": null,
            "min_width": null,
            "object_fit": null,
            "object_position": null,
            "order": null,
            "overflow": null,
            "overflow_x": null,
            "overflow_y": null,
            "padding": null,
            "right": null,
            "top": null,
            "visibility": null,
            "width": null
          }
        },
        "92918d89e1714079ac79a7247cfa16bd": {
          "model_module": "@jupyter-widgets/controls",
          "model_name": "ProgressStyleModel",
          "model_module_version": "1.5.0",
          "state": {
            "_model_module": "@jupyter-widgets/controls",
            "_model_module_version": "1.5.0",
            "_model_name": "ProgressStyleModel",
            "_view_count": null,
            "_view_module": "@jupyter-widgets/base",
            "_view_module_version": "1.2.0",
            "_view_name": "StyleView",
            "bar_color": null,
            "description_width": ""
          }
        },
        "d969caad948d418f889c55345372e664": {
          "model_module": "@jupyter-widgets/base",
          "model_name": "LayoutModel",
          "model_module_version": "1.2.0",
          "state": {
            "_model_module": "@jupyter-widgets/base",
            "_model_module_version": "1.2.0",
            "_model_name": "LayoutModel",
            "_view_count": null,
            "_view_module": "@jupyter-widgets/base",
            "_view_module_version": "1.2.0",
            "_view_name": "LayoutView",
            "align_content": null,
            "align_items": null,
            "align_self": null,
            "border": null,
            "bottom": null,
            "display": null,
            "flex": null,
            "flex_flow": null,
            "grid_area": null,
            "grid_auto_columns": null,
            "grid_auto_flow": null,
            "grid_auto_rows": null,
            "grid_column": null,
            "grid_gap": null,
            "grid_row": null,
            "grid_template_areas": null,
            "grid_template_columns": null,
            "grid_template_rows": null,
            "height": null,
            "justify_content": null,
            "justify_items": null,
            "left": null,
            "margin": null,
            "max_height": null,
            "max_width": null,
            "min_height": null,
            "min_width": null,
            "object_fit": null,
            "object_position": null,
            "order": null,
            "overflow": null,
            "overflow_x": null,
            "overflow_y": null,
            "padding": null,
            "right": null,
            "top": null,
            "visibility": null,
            "width": null
          }
        },
        "436ba98dce004dafb685fd7d584efb1f": {
          "model_module": "@jupyter-widgets/controls",
          "model_name": "DescriptionStyleModel",
          "model_module_version": "1.5.0",
          "state": {
            "_model_module": "@jupyter-widgets/controls",
            "_model_module_version": "1.5.0",
            "_model_name": "DescriptionStyleModel",
            "_view_count": null,
            "_view_module": "@jupyter-widgets/base",
            "_view_module_version": "1.2.0",
            "_view_name": "StyleView",
            "description_width": ""
          }
        },
        "3ac90ef7b03846f58700aae74d6f9f4a": {
          "model_module": "@jupyter-widgets/controls",
          "model_name": "HBoxModel",
          "model_module_version": "1.5.0",
          "state": {
            "_dom_classes": [],
            "_model_module": "@jupyter-widgets/controls",
            "_model_module_version": "1.5.0",
            "_model_name": "HBoxModel",
            "_view_count": null,
            "_view_module": "@jupyter-widgets/controls",
            "_view_module_version": "1.5.0",
            "_view_name": "HBoxView",
            "box_style": "",
            "children": [
              "IPY_MODEL_4efe9cf0f83144b2ad5067245e8664bd",
              "IPY_MODEL_23e29221116c40dc9c7c4bf320a6c27c",
              "IPY_MODEL_0530ef27c9024cdf91a251b9b99bafff"
            ],
            "layout": "IPY_MODEL_d5b18cd84b4f47fca2de70e1f3448885"
          }
        },
        "4efe9cf0f83144b2ad5067245e8664bd": {
          "model_module": "@jupyter-widgets/controls",
          "model_name": "HTMLModel",
          "model_module_version": "1.5.0",
          "state": {
            "_dom_classes": [],
            "_model_module": "@jupyter-widgets/controls",
            "_model_module_version": "1.5.0",
            "_model_name": "HTMLModel",
            "_view_count": null,
            "_view_module": "@jupyter-widgets/controls",
            "_view_module_version": "1.5.0",
            "_view_name": "HTMLView",
            "description": "",
            "description_tooltip": null,
            "layout": "IPY_MODEL_8355e24a7d23449bb483e20fd4d74283",
            "placeholder": "​",
            "style": "IPY_MODEL_7e4948bb097243d190e6b7f9df45009c",
            "value": "Creating json from Arrow format: 100%"
          }
        },
        "23e29221116c40dc9c7c4bf320a6c27c": {
          "model_module": "@jupyter-widgets/controls",
          "model_name": "FloatProgressModel",
          "model_module_version": "1.5.0",
          "state": {
            "_dom_classes": [],
            "_model_module": "@jupyter-widgets/controls",
            "_model_module_version": "1.5.0",
            "_model_name": "FloatProgressModel",
            "_view_count": null,
            "_view_module": "@jupyter-widgets/controls",
            "_view_module_version": "1.5.0",
            "_view_name": "ProgressView",
            "bar_style": "success",
            "description": "",
            "description_tooltip": null,
            "layout": "IPY_MODEL_b71a51855b73495ab6fc1a50203f5051",
            "max": 1,
            "min": 0,
            "orientation": "horizontal",
            "style": "IPY_MODEL_fb373af801e74e9d83fe519b65211f23",
            "value": 1
          }
        },
        "0530ef27c9024cdf91a251b9b99bafff": {
          "model_module": "@jupyter-widgets/controls",
          "model_name": "HTMLModel",
          "model_module_version": "1.5.0",
          "state": {
            "_dom_classes": [],
            "_model_module": "@jupyter-widgets/controls",
            "_model_module_version": "1.5.0",
            "_model_name": "HTMLModel",
            "_view_count": null,
            "_view_module": "@jupyter-widgets/controls",
            "_view_module_version": "1.5.0",
            "_view_name": "HTMLView",
            "description": "",
            "description_tooltip": null,
            "layout": "IPY_MODEL_3ca89aa7d1564647a97ae492024d4bc5",
            "placeholder": "​",
            "style": "IPY_MODEL_1102a6c9d2c54a20a76767fd9151bfca",
            "value": " 1/1 [00:00&lt;00:00, 15.28ba/s]"
          }
        },
        "d5b18cd84b4f47fca2de70e1f3448885": {
          "model_module": "@jupyter-widgets/base",
          "model_name": "LayoutModel",
          "model_module_version": "1.2.0",
          "state": {
            "_model_module": "@jupyter-widgets/base",
            "_model_module_version": "1.2.0",
            "_model_name": "LayoutModel",
            "_view_count": null,
            "_view_module": "@jupyter-widgets/base",
            "_view_module_version": "1.2.0",
            "_view_name": "LayoutView",
            "align_content": null,
            "align_items": null,
            "align_self": null,
            "border": null,
            "bottom": null,
            "display": null,
            "flex": null,
            "flex_flow": null,
            "grid_area": null,
            "grid_auto_columns": null,
            "grid_auto_flow": null,
            "grid_auto_rows": null,
            "grid_column": null,
            "grid_gap": null,
            "grid_row": null,
            "grid_template_areas": null,
            "grid_template_columns": null,
            "grid_template_rows": null,
            "height": null,
            "justify_content": null,
            "justify_items": null,
            "left": null,
            "margin": null,
            "max_height": null,
            "max_width": null,
            "min_height": null,
            "min_width": null,
            "object_fit": null,
            "object_position": null,
            "order": null,
            "overflow": null,
            "overflow_x": null,
            "overflow_y": null,
            "padding": null,
            "right": null,
            "top": null,
            "visibility": null,
            "width": null
          }
        },
        "8355e24a7d23449bb483e20fd4d74283": {
          "model_module": "@jupyter-widgets/base",
          "model_name": "LayoutModel",
          "model_module_version": "1.2.0",
          "state": {
            "_model_module": "@jupyter-widgets/base",
            "_model_module_version": "1.2.0",
            "_model_name": "LayoutModel",
            "_view_count": null,
            "_view_module": "@jupyter-widgets/base",
            "_view_module_version": "1.2.0",
            "_view_name": "LayoutView",
            "align_content": null,
            "align_items": null,
            "align_self": null,
            "border": null,
            "bottom": null,
            "display": null,
            "flex": null,
            "flex_flow": null,
            "grid_area": null,
            "grid_auto_columns": null,
            "grid_auto_flow": null,
            "grid_auto_rows": null,
            "grid_column": null,
            "grid_gap": null,
            "grid_row": null,
            "grid_template_areas": null,
            "grid_template_columns": null,
            "grid_template_rows": null,
            "height": null,
            "justify_content": null,
            "justify_items": null,
            "left": null,
            "margin": null,
            "max_height": null,
            "max_width": null,
            "min_height": null,
            "min_width": null,
            "object_fit": null,
            "object_position": null,
            "order": null,
            "overflow": null,
            "overflow_x": null,
            "overflow_y": null,
            "padding": null,
            "right": null,
            "top": null,
            "visibility": null,
            "width": null
          }
        },
        "7e4948bb097243d190e6b7f9df45009c": {
          "model_module": "@jupyter-widgets/controls",
          "model_name": "DescriptionStyleModel",
          "model_module_version": "1.5.0",
          "state": {
            "_model_module": "@jupyter-widgets/controls",
            "_model_module_version": "1.5.0",
            "_model_name": "DescriptionStyleModel",
            "_view_count": null,
            "_view_module": "@jupyter-widgets/base",
            "_view_module_version": "1.2.0",
            "_view_name": "StyleView",
            "description_width": ""
          }
        },
        "b71a51855b73495ab6fc1a50203f5051": {
          "model_module": "@jupyter-widgets/base",
          "model_name": "LayoutModel",
          "model_module_version": "1.2.0",
          "state": {
            "_model_module": "@jupyter-widgets/base",
            "_model_module_version": "1.2.0",
            "_model_name": "LayoutModel",
            "_view_count": null,
            "_view_module": "@jupyter-widgets/base",
            "_view_module_version": "1.2.0",
            "_view_name": "LayoutView",
            "align_content": null,
            "align_items": null,
            "align_self": null,
            "border": null,
            "bottom": null,
            "display": null,
            "flex": null,
            "flex_flow": null,
            "grid_area": null,
            "grid_auto_columns": null,
            "grid_auto_flow": null,
            "grid_auto_rows": null,
            "grid_column": null,
            "grid_gap": null,
            "grid_row": null,
            "grid_template_areas": null,
            "grid_template_columns": null,
            "grid_template_rows": null,
            "height": null,
            "justify_content": null,
            "justify_items": null,
            "left": null,
            "margin": null,
            "max_height": null,
            "max_width": null,
            "min_height": null,
            "min_width": null,
            "object_fit": null,
            "object_position": null,
            "order": null,
            "overflow": null,
            "overflow_x": null,
            "overflow_y": null,
            "padding": null,
            "right": null,
            "top": null,
            "visibility": null,
            "width": null
          }
        },
        "fb373af801e74e9d83fe519b65211f23": {
          "model_module": "@jupyter-widgets/controls",
          "model_name": "ProgressStyleModel",
          "model_module_version": "1.5.0",
          "state": {
            "_model_module": "@jupyter-widgets/controls",
            "_model_module_version": "1.5.0",
            "_model_name": "ProgressStyleModel",
            "_view_count": null,
            "_view_module": "@jupyter-widgets/base",
            "_view_module_version": "1.2.0",
            "_view_name": "StyleView",
            "bar_color": null,
            "description_width": ""
          }
        },
        "3ca89aa7d1564647a97ae492024d4bc5": {
          "model_module": "@jupyter-widgets/base",
          "model_name": "LayoutModel",
          "model_module_version": "1.2.0",
          "state": {
            "_model_module": "@jupyter-widgets/base",
            "_model_module_version": "1.2.0",
            "_model_name": "LayoutModel",
            "_view_count": null,
            "_view_module": "@jupyter-widgets/base",
            "_view_module_version": "1.2.0",
            "_view_name": "LayoutView",
            "align_content": null,
            "align_items": null,
            "align_self": null,
            "border": null,
            "bottom": null,
            "display": null,
            "flex": null,
            "flex_flow": null,
            "grid_area": null,
            "grid_auto_columns": null,
            "grid_auto_flow": null,
            "grid_auto_rows": null,
            "grid_column": null,
            "grid_gap": null,
            "grid_row": null,
            "grid_template_areas": null,
            "grid_template_columns": null,
            "grid_template_rows": null,
            "height": null,
            "justify_content": null,
            "justify_items": null,
            "left": null,
            "margin": null,
            "max_height": null,
            "max_width": null,
            "min_height": null,
            "min_width": null,
            "object_fit": null,
            "object_position": null,
            "order": null,
            "overflow": null,
            "overflow_x": null,
            "overflow_y": null,
            "padding": null,
            "right": null,
            "top": null,
            "visibility": null,
            "width": null
          }
        },
        "1102a6c9d2c54a20a76767fd9151bfca": {
          "model_module": "@jupyter-widgets/controls",
          "model_name": "DescriptionStyleModel",
          "model_module_version": "1.5.0",
          "state": {
            "_model_module": "@jupyter-widgets/controls",
            "_model_module_version": "1.5.0",
            "_model_name": "DescriptionStyleModel",
            "_view_count": null,
            "_view_module": "@jupyter-widgets/base",
            "_view_module_version": "1.2.0",
            "_view_name": "StyleView",
            "description_width": ""
          }
        }
      }
    }
  },
  "cells": [
    {
      "cell_type": "markdown",
      "metadata": {
        "id": "view-in-github",
        "colab_type": "text"
      },
      "source": [
        "<a href=\"https://colab.research.google.com/github/abdulsamadkhan/Llama2_Chat/blob/main/RAFT.ipynb\" target=\"_parent\"><img src=\"https://colab.research.google.com/assets/colab-badge.svg\" alt=\"Open In Colab\"/></a>"
      ]
    },
    {
      "cell_type": "markdown",
      "source": [
        "\n",
        "#Creating RAFT dataset using LLM 3.5\n",
        "##1.Introduction\n",
        "This tutorial is about creating a dataset using Retrieval Augmented Fine Tuning (RAFT).This is a new way of finetuning the domain specific model by creating a real like RAG situation, where $k$ documents (contexts) are retrived and only one document contains the answe to the query. In RAFT, given a question (query), and a set of retrieved documents, it trains the model to ignore those documents that don't help answer the question, these documents are called, distractor documents, this is illustrated in the figure below. RAFT uses a chain-of-thought to improve the model's ability to reason. unlike according to the paper, RAFT consistently improves the model's performance across PubMed, HotpotQA, and Gorilla datasets, presenting a post-training recipe to improve pre-trained LLMs to in-domain RAG.\n",
        "\n",
        "![image.png](data:image/png;base64,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)\n",
        "\n",
        "\n"
      ],
      "metadata": {
        "id": "Z9MjGJ8g0Y9b"
      }
    },
    {
      "cell_type": "markdown",
      "source": [
        "Before creating the dataset using RAFT, I want to highlight the differentce of this techinque with existing  methods in adapting LLM to a specific domain, using the analogy between training an LLM in the real-world setting of preparing for an exam.\n",
        "\n",
        "###Closed-Book Exam:\n",
        " A closed book exam often refers to a scenario where the LLMs do not have access to any additional documents or references to answer the questions during the exam. This is equivelant to fine-tune a general LLM for our domain knowleddge,  as shown in the figure.\n",
        " ![image.png](data:image/png;base64,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)\n",
        "\n",
        "###Open Book Exam:\n",
        "It is refered to the scenario in which the LLM uses  external sources of information (e.g., a website or\n",
        "a book chapter). In such scenario, typically, the LLM is\n",
        "paired with a retriever which retrieves $k$ documents (or\n",
        "specific segments of the document) which are appended to\n",
        "the prompt. It is only through these documents retrieved that\n",
        "the LLM gains access to “new knowledge”, so its performance  largely dependent on\n",
        "the quality of the retriever and how accurately the retriever\n",
        "can identify the most relevant piece of information. as shown in the figure\n",
        "\n",
        "![image.png](data:image/png;base64,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)\n",
        "\n",
        "###Domain Specific Open-Book Exam (RAFT):\n",
        "In this scnariot he LLM can respond to the prompt\n",
        "using use any and all information from this specific domain,\n",
        "which it has been fine-tuned on. This is illustrated in the figure\n",
        "\n",
        "![image.png](data:image/png;base64,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)\n",
        "\n"
      ],
      "metadata": {
        "id": "FFV6ScySyS4B"
      }
    },
    {
      "cell_type": "markdown",
      "source": [
        "##2. RAFT-DATASET\n",
        "Let us create our own raft-datset using `gpt-turbo3.5`.\n"
      ],
      "metadata": {
        "id": "a460pARrGtg1"
      }
    },
    {
      "cell_type": "markdown",
      "source": [
        "###2.1 Installing Libraries"
      ],
      "metadata": {
        "id": "6wlPSsXd1O6Q"
      }
    },
    {
      "cell_type": "code",
      "source": [
        "#required libraries\n",
        "!pip install llama-index\n",
        "!pip install llama-index-packs-raft-dataset\n"
      ],
      "metadata": {
        "id": "eNsdlgAMXhTM"
      },
      "execution_count": null,
      "outputs": []
    },
    {
      "cell_type": "code",
      "source": [
        "# importing the class for generating the RAFTDataset\n",
        "from llama_index.packs.raft_dataset import RAFTDatasetPack"
      ],
      "metadata": {
        "id": "djgppAk7S-IG"
      },
      "execution_count": null,
      "outputs": []
    },
    {
      "cell_type": "code",
      "source": [
        "#loading openAI API Key\n",
        "import openai\n",
        "from google.colab import userdata\n",
        "openai.api_key = userdata.get('OPENAI_KEY')\n"
      ],
      "metadata": {
        "id": "KcAvGRs_4Mv2"
      },
      "execution_count": null,
      "outputs": []
    },
    {
      "cell_type": "markdown",
      "source": [
        "###2.2 Download Data\n",
        "For this tutorial, I made a text file about Wasim Akram, the well-known Pakistani cricketer. I gathered the info from Wikipedia"
      ],
      "metadata": {
        "id": "oFO-dekz4QPL"
      }
    },
    {
      "cell_type": "code",
      "source": [
        "# this data will be stored in output directory ./WasimAkram.txt\n",
        "!wget  \"https://raw.githubusercontent.com/abdulsamadkhan/Llama2_Chat/main/Data/WasimAkram.txt\" -O './WasimAkram.txt'\n",
        "\n"
      ],
      "metadata": {
        "id": "_ibyz6z2474Y"
      },
      "execution_count": null,
      "outputs": []
    },
    {
      "cell_type": "markdown",
      "source": [
        "###2.3 creating `gpt 3.5 turbo` object\n",
        "Since I want to use `gpt 3.5 turbu` so I am creating my  own llm object. If we do not create and pass this object to `RAFTDatssetPack` object, default llm `gpt4` will be created."
      ],
      "metadata": {
        "id": "HjyzTQS07nq6"
      }
    },
    {
      "cell_type": "code",
      "source": [
        "#create llm object\n",
        "from llama_index.llms.openai import OpenAI\n",
        "llm = OpenAI(temperature=0, n=1, model=\"gpt-3.5-turbo\")"
      ],
      "metadata": {
        "id": "EiFx7ton7ilA"
      },
      "execution_count": null,
      "outputs": []
    },
    {
      "cell_type": "markdown",
      "source": [
        "### 2.4 instantiating RAFTDatasetPack object\n",
        "Following are the arguments to the RAFTDatasetPack object, which helps in creating a customized generation process.\n",
        "\n",
        "Arguments:\n",
        "*   `file_path` - the path at which the document is located\n",
        "* `llm` - llm object, we can use any llm here, I have used gpt3.5 turbo, if no llm is used it will pick GPT4 by default. GPT4 is expenvie\n",
        "* `embed-model` you can provide any embedding model, if you do not then gpt embedding model is picked\n",
        "* `num_questions_per_chunk` the number of data points to generate per chunk\n",
        "\n",
        "* `number_distract_docs` - the number of distractor documents to include per data point\n",
        "* `chunk_size` - the size of each chunk in number of tokens:\n"
      ],
      "metadata": {
        "id": "5LcMQ8iu6B8d"
      }
    },
    {
      "cell_type": "code",
      "source": [
        "raft_dataset = RAFTDatasetPack(file_path=\"./WasimAkram.txt\",llm=llm,\n",
        "                                 num_questions_per_chunk=2,\n",
        "                                 num_distract_docs=3,\n",
        "                                 )"
      ],
      "metadata": {
        "id": "2z_NVGCJcfmD"
      },
      "execution_count": null,
      "outputs": []
    },
    {
      "cell_type": "markdown",
      "source": [
        "###2.5 Exploring raft_dataset\n",
        "####Chunks details\n",
        "After creating the raft_dataset object I explored the RAFTDatasetPack object. The RAFTDatasetPack uses `SemanticSplitterNodeParser(...)`\n",
        "which splits documents into semantically similar chunks. In our case it creates 9 chunks.\n",
        "\n",
        "Note: Due to this splitter, i realized that `chunk_size` parameter has no effect on different values passed.\n",
        "\n"
      ],
      "metadata": {
        "id": "qvOhELTcBaom"
      }
    },
    {
      "cell_type": "code",
      "source": [
        "chunks = raft_dataset.get_chunks(\"./WasimAkram.txt\", raft_dataset.chunk_size)\n",
        "len(chunks)"
      ],
      "metadata": {
        "id": "skzpmiwNhVKT"
      },
      "execution_count": null,
      "outputs": []
    },
    {
      "cell_type": "markdown",
      "source": [
        "####Important observations\n",
        "while creating dataset I observed  the following important points\n",
        "\n",
        "* Each chunk is passed to LLM to create questions using a well crafted prompt, this is done through this function `generate_instructions_gen(chunk,#numberofQuestions )`\n",
        "\n",
        "*  `oracle_context` is the true chunk from which the questions and answers both are derived. This is termed as `D*` in the paper\n",
        "\n",
        "* `cot_answer` is generated based on prompt using the `oracle_context` and `question`. this is termed as `A*` in the paper. This is based on `Chain of Thought` idea.\n",
        "The prompt for generating `cot_answer` using given question and chunk is given below\n",
        "          prompt = f\"\"\"\n",
        "            Question: {question}\\nContext: {chunk}\\n\n",
        "            Answer this question using the information given in the context above. Here is things to pay attention to:\n",
        "            - First provide step-by-step reasoning on how to answer the question.\n",
        "            - In the reasoning, if you need to copy paste some sentences from the context, include them in ##begin_quote## and ##end_quote##. This would mean that things outside of ##begin_quote## and ##end_quote## are not directly copy paste from the context.\n",
        "            - End your response with final answer in the form <ANSWER>: $answer, the answer should be succinct.\n",
        "        \"\"\"   "
      ],
      "metadata": {
        "id": "l6WPOYrEAPZR"
      }
    },
    {
      "cell_type": "code",
      "source": [
        "dataset = raft_dataset.run()"
      ],
      "metadata": {
        "id": "y1c6u31-h5dY"
      },
      "execution_count": null,
      "outputs": []
    },
    {
      "cell_type": "markdown",
      "source": [
        "* For each chunk, uses `gpt3.5-turbo` to synthetically generate dataset.\n"
      ],
      "metadata": {
        "id": "7IfDiaSpksfD"
      }
    },
    {
      "cell_type": "code",
      "source": [
        "#printing the dataset\n",
        "dataset"
      ],
      "metadata": {
        "colab": {
          "base_uri": "https://localhost:8080/"
        },
        "id": "ZQIkI0FllSwz",
        "outputId": "85ab32c7-4295-4981-ad96-88b2277937eb"
      },
      "execution_count": null,
      "outputs": [
        {
          "output_type": "execute_result",
          "data": {
            "text/plain": [
              "Dataset({\n",
              "    features: ['id', 'type', 'question', 'context', 'oracle_context', 'cot_answer', 'instruction'],\n",
              "    num_rows: 20\n",
              "})"
            ]
          },
          "metadata": {},
          "execution_count": 38
        }
      ]
    },
    {
      "cell_type": "markdown",
      "source": [
        "### 2.6 mapping to Notation:\n",
        " * `question` is mapped to `Q ` in the paper\n",
        " * `context` is mapped set of documents `D_k ` in the paper\n",
        " * `oracle_context` is mapped to `D* ` in the paper\n",
        " * `cot_answer` is mapped to `A* ` in the paper."
      ],
      "metadata": {
        "id": "qa8COzGNm4TW"
      }
    },
    {
      "cell_type": "code",
      "source": [
        "#oracle document is relevant, distractor document is irrelevant\n",
        "#exploring the first data point\n",
        "len(dataset[0]['context']['sentences'][0])"
      ],
      "metadata": {
        "colab": {
          "base_uri": "https://localhost:8080/"
        },
        "id": "EnByY_VpmLXM",
        "outputId": "1227aa76-2e9e-44d0-e8a5-daacb2126166"
      },
      "execution_count": null,
      "outputs": [
        {
          "output_type": "execute_result",
          "data": {
            "text/plain": [
              "3"
            ]
          },
          "metadata": {},
          "execution_count": 18
        }
      ]
    },
    {
      "cell_type": "markdown",
      "source": [
        "###2.7 saving the raft_dataset"
      ],
      "metadata": {
        "id": "nY4AwniVIU5Z"
      }
    },
    {
      "cell_type": "code",
      "source": [
        "output_path = \"./RAFTDATA\"\n",
        "# Save as .arrow format\n",
        "dataset.save_to_disk(output_path)\n",
        "\n",
        "# Save as .jsonl format\n",
        "dataset.to_json(output_path + \".jsonl\")"
      ],
      "metadata": {
        "colab": {
          "base_uri": "https://localhost:8080/",
          "height": 98,
          "referenced_widgets": [
            "fd8b07f425e04cadb733edf5354b0eb3",
            "de461ec70aec40a59c3bcfa0a50a0875",
            "6168a72b5a6044199983cae76db129eb",
            "e2ab12378e8c4db2b72290ef09dae22c",
            "9f68ecef804b429792555a8a1b3ff79e",
            "397654925aee4c46b3252c6e77ef30fe",
            "df7169da8dea453589a6194d7acffa3b",
            "ac8268cee06844d3bf970df585f06e52",
            "92918d89e1714079ac79a7247cfa16bd",
            "d969caad948d418f889c55345372e664",
            "436ba98dce004dafb685fd7d584efb1f",
            "3ac90ef7b03846f58700aae74d6f9f4a",
            "4efe9cf0f83144b2ad5067245e8664bd",
            "23e29221116c40dc9c7c4bf320a6c27c",
            "0530ef27c9024cdf91a251b9b99bafff",
            "d5b18cd84b4f47fca2de70e1f3448885",
            "8355e24a7d23449bb483e20fd4d74283",
            "7e4948bb097243d190e6b7f9df45009c",
            "b71a51855b73495ab6fc1a50203f5051",
            "fb373af801e74e9d83fe519b65211f23",
            "3ca89aa7d1564647a97ae492024d4bc5",
            "1102a6c9d2c54a20a76767fd9151bfca"
          ]
        },
        "id": "6ABge5MdKAtc",
        "outputId": "362af239-88df-4693-c405-8680fb1ad847"
      },
      "execution_count": null,
      "outputs": [
        {
          "output_type": "display_data",
          "data": {
            "text/plain": [
              "Saving the dataset (0/1 shards):   0%|          | 0/20 [00:00<?, ? examples/s]"
            ],
            "application/vnd.jupyter.widget-view+json": {
              "version_major": 2,
              "version_minor": 0,
              "model_id": "fd8b07f425e04cadb733edf5354b0eb3"
            }
          },
          "metadata": {}
        },
        {
          "output_type": "display_data",
          "data": {
            "text/plain": [
              "Creating json from Arrow format:   0%|          | 0/1 [00:00<?, ?ba/s]"
            ],
            "application/vnd.jupyter.widget-view+json": {
              "version_major": 2,
              "version_minor": 0,
              "model_id": "3ac90ef7b03846f58700aae74d6f9f4a"
            }
          },
          "metadata": {}
        },
        {
          "output_type": "execute_result",
          "data": {
            "text/plain": [
              "279797"
            ]
          },
          "metadata": {},
          "execution_count": 19
        }
      ]
    },
    {
      "cell_type": "markdown",
      "source": [
        "#Refrences\n",
        "\n",
        "* https://arxiv.org/pdf/2403.10131.pdf\n",
        "* https://github.com/run-llama/llama_index/blob/main/llama-index-packs/llama-index-packs-raft-dataset/examples/raft_dataset.ipynb\n",
        "* https://github.com/ShishirPatil/gorilla/tree/main/raft\n"
      ],
      "metadata": {
        "id": "SVT9a97my8tb"
      }
    },
    {
      "cell_type": "code",
      "source": [
        "\n"
      ],
      "metadata": {
        "id": "cHMltfufpQKM"
      },
      "execution_count": null,
      "outputs": []
    }
  ]
}